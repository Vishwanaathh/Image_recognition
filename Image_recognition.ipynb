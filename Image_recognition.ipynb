{
  "nbformat": 4,
  "nbformat_minor": 0,
  "metadata": {
    "colab": {
      "provenance": []
    },
    "kernelspec": {
      "name": "python3",
      "display_name": "Python 3"
    },
    "language_info": {
      "name": "python"
    }
  },
  "cells": [
    {
      "cell_type": "code",
      "execution_count": 2,
      "metadata": {
        "id": "-6m-zOv_BYuK"
      },
      "outputs": [],
      "source": [
        "import numpy as np\n",
        "import matplotlib.pyplot as plt\n",
        "import cv2\n",
        "from google.colab.patches import cv2_imshow\n",
        "import tensorflow as tf\n",
        "tf.random.set_seed(3)\n",
        "from tensorflow import keras\n",
        "from keras.datasets import cifar10"
      ]
    },
    {
      "cell_type": "code",
      "source": [
        "from tensorflow.keras.utils import to_categorical\n",
        "(x_train, y_train), (x_test, y_test) = cifar10.load_data()\n",
        "\n",
        "# Normalize the images to the range [0, 1]\n",
        "x_train = x_train.astype('float32') / 255.0\n",
        "x_test = x_test.astype('float32') / 255.0\n",
        "\n"
      ],
      "metadata": {
        "id": "_SKxBzLrGPLc"
      },
      "execution_count": 11,
      "outputs": []
    },
    {
      "cell_type": "code",
      "source": [
        "model=keras.Sequential([\n",
        "    keras.layers.Conv2D(32,(3,3),activation='relu',input_shape=(32,32,3)),\n",
        "    keras.layers.MaxPooling2D((2,2)),\n",
        "    keras.layers.Conv2D(64,(3,3),activation='relu'),\n",
        "    keras.layers.MaxPooling2D((2,2)),\n",
        "    keras.layers.Flatten(),\n",
        "    keras.layers.Dense(64,activation='relu'),\n",
        "    keras.layers.Dense(10,activation='softmax')\n",
        "\n",
        "])"
      ],
      "metadata": {
        "id": "HGPZcrlTGboj"
      },
      "execution_count": 5,
      "outputs": []
    },
    {
      "cell_type": "code",
      "source": [
        "model.compile(optimizer='adam',loss='sparse_categorical_crossentropy',metrics=['accuracy'])"
      ],
      "metadata": {
        "id": "XXSKcfgGkznh"
      },
      "execution_count": 6,
      "outputs": []
    },
    {
      "cell_type": "code",
      "source": [
        "model.fit(x_train,y_train,epochs=5)"
      ],
      "metadata": {
        "colab": {
          "base_uri": "https://localhost:8080/"
        },
        "id": "lnsOV_ZalJo-",
        "outputId": "91d12234-5e42-4a45-b54f-b84814e3c11c"
      },
      "execution_count": 12,
      "outputs": [
        {
          "output_type": "stream",
          "name": "stdout",
          "text": [
            "Epoch 1/5\n",
            "1563/1563 [==============================] - 59s 37ms/step - loss: 1.4536 - accuracy: 0.1034\n",
            "Epoch 2/5\n",
            "1563/1563 [==============================] - 55s 35ms/step - loss: 1.1056 - accuracy: 0.1012\n",
            "Epoch 3/5\n",
            "1563/1563 [==============================] - 56s 36ms/step - loss: 0.9832 - accuracy: 0.1011\n",
            "Epoch 4/5\n",
            "1563/1563 [==============================] - 57s 37ms/step - loss: 0.9060 - accuracy: 0.1004\n",
            "Epoch 5/5\n",
            "1563/1563 [==============================] - 56s 36ms/step - loss: 0.8454 - accuracy: 0.1007\n"
          ]
        },
        {
          "output_type": "execute_result",
          "data": {
            "text/plain": [
              "<keras.src.callbacks.History at 0x7902bf0fce80>"
            ]
          },
          "metadata": {},
          "execution_count": 12
        }
      ]
    },
    {
      "cell_type": "code",
      "source": [
        "num=int(input(\"Enter the index of image\"))\n",
        "single_image = x_test[num]\n",
        "# Define the class names\n",
        "class_names = ['airplane', 'automobile', 'bird', 'cat', 'deer', 'dog', 'frog', 'horse', 'ship', 'truck']\n",
        "\n",
        "# Expand dimensions to include the batch size\n",
        "single_image = np.expand_dims(single_image, axis=0)\n",
        "print(class_names[np.argmax(model.predict(single_image))])"
      ],
      "metadata": {
        "colab": {
          "base_uri": "https://localhost:8080/"
        },
        "id": "Tz_vOjcQm8tM",
        "outputId": "ec27fdf7-1838-49e1-b973-62b70177f925"
      },
      "execution_count": 23,
      "outputs": [
        {
          "output_type": "stream",
          "name": "stdout",
          "text": [
            "Enter the index of image0\n",
            "1/1 [==============================] - 0s 23ms/step\n",
            "cat\n"
          ]
        }
      ]
    }
  ]
}